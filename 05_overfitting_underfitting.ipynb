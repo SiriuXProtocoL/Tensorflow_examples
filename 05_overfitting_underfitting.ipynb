{
  "nbformat": 4,
  "nbformat_minor": 0,
  "metadata": {
    "colab": {
      "name": "05_overfitting_underfitting.ipynb",
      "provenance": [],
      "collapsed_sections": [],
      "authorship_tag": "ABX9TyNn/sgFXvGq38y9LUPm8juF",
      "include_colab_link": true
    },
    "kernelspec": {
      "name": "python3",
      "display_name": "Python 3"
    }
  },
  "cells": [
    {
      "cell_type": "markdown",
      "metadata": {
        "id": "view-in-github",
        "colab_type": "text"
      },
      "source": [
        "<a href=\"https://colab.research.google.com/github/SiriuXProtocoL/Tensorflow_examples/blob/main/05_overfitting_underfitting.ipynb\" target=\"_parent\"><img src=\"https://colab.research.google.com/assets/colab-badge.svg\" alt=\"Open In Colab\"/></a>"
      ]
    },
    {
      "cell_type": "markdown",
      "metadata": {
        "id": "lD8F6CpJVHXA"
      },
      "source": [
        "###Overfitting?\n",
        "1.   Get more training data.\n",
        "2.   Reduce the capacity of the network.\n",
        "3.   Add weight regularization.\n",
        "4.   Add dropouts."
      ]
    },
    {
      "cell_type": "code",
      "metadata": {
        "colab": {
          "base_uri": "https://localhost:8080/"
        },
        "id": "i7Av0qfNH8us",
        "outputId": "cd069851-480b-4f0a-eb9a-7aa9844ccdce"
      },
      "source": [
        "import tensorflow as tf\n",
        "\n",
        "from tensorflow.keras import layers\n",
        "from tensorflow.keras import regularizers\n",
        "\n",
        "print(tf.__version__)"
      ],
      "execution_count": 1,
      "outputs": [
        {
          "output_type": "stream",
          "text": [
            "2.3.0\n"
          ],
          "name": "stdout"
        }
      ]
    },
    {
      "cell_type": "code",
      "metadata": {
        "colab": {
          "base_uri": "https://localhost:8080/"
        },
        "id": "Lx0wBALGIMk5",
        "outputId": "a4478f41-ff45-41dd-a1c9-2b37544afb29"
      },
      "source": [
        "!pip install -q git+https://github.com/tensorflow/docs"
      ],
      "execution_count": 2,
      "outputs": [
        {
          "output_type": "stream",
          "text": [
            "\u001b[?25l\r\u001b[K     |▎                               | 10kB 16.2MB/s eta 0:00:01\r\u001b[K     |▋                               | 20kB 17.8MB/s eta 0:00:01\r\u001b[K     |█                               | 30kB 8.1MB/s eta 0:00:01\r\u001b[K     |█▎                              | 40kB 8.1MB/s eta 0:00:01\r\u001b[K     |█▋                              | 51kB 4.7MB/s eta 0:00:01\r\u001b[K     |██                              | 61kB 5.2MB/s eta 0:00:01\r\u001b[K     |██▎                             | 71kB 5.4MB/s eta 0:00:01\r\u001b[K     |██▋                             | 81kB 5.3MB/s eta 0:00:01\r\u001b[K     |██▉                             | 92kB 5.3MB/s eta 0:00:01\r\u001b[K     |███▏                            | 102kB 4.5MB/s eta 0:00:01\r\u001b[K     |███▌                            | 112kB 4.5MB/s eta 0:00:01\r\u001b[K     |███▉                            | 122kB 4.5MB/s eta 0:00:01\r\u001b[K     |████▏                           | 133kB 4.5MB/s eta 0:00:01\r\u001b[K     |████▌                           | 143kB 4.5MB/s eta 0:00:01\r\u001b[K     |████▉                           | 153kB 4.5MB/s eta 0:00:01\r\u001b[K     |█████▏                          | 163kB 4.5MB/s eta 0:00:01\r\u001b[K     |█████▌                          | 174kB 4.5MB/s eta 0:00:01\r\u001b[K     |█████▊                          | 184kB 4.5MB/s eta 0:00:01\r\u001b[K     |██████                          | 194kB 4.5MB/s eta 0:00:01\r\u001b[K     |██████▍                         | 204kB 4.5MB/s eta 0:00:01\r\u001b[K     |██████▊                         | 215kB 4.5MB/s eta 0:00:01\r\u001b[K     |███████                         | 225kB 4.5MB/s eta 0:00:01\r\u001b[K     |███████▍                        | 235kB 4.5MB/s eta 0:00:01\r\u001b[K     |███████▊                        | 245kB 4.5MB/s eta 0:00:01\r\u001b[K     |████████                        | 256kB 4.5MB/s eta 0:00:01\r\u001b[K     |████████▍                       | 266kB 4.5MB/s eta 0:00:01\r\u001b[K     |████████▋                       | 276kB 4.5MB/s eta 0:00:01\r\u001b[K     |█████████                       | 286kB 4.5MB/s eta 0:00:01\r\u001b[K     |█████████▎                      | 296kB 4.5MB/s eta 0:00:01\r\u001b[K     |█████████▋                      | 307kB 4.5MB/s eta 0:00:01\r\u001b[K     |██████████                      | 317kB 4.5MB/s eta 0:00:01\r\u001b[K     |██████████▎                     | 327kB 4.5MB/s eta 0:00:01\r\u001b[K     |██████████▋                     | 337kB 4.5MB/s eta 0:00:01\r\u001b[K     |███████████                     | 348kB 4.5MB/s eta 0:00:01\r\u001b[K     |███████████▎                    | 358kB 4.5MB/s eta 0:00:01\r\u001b[K     |███████████▌                    | 368kB 4.5MB/s eta 0:00:01\r\u001b[K     |███████████▉                    | 378kB 4.5MB/s eta 0:00:01\r\u001b[K     |████████████▏                   | 389kB 4.5MB/s eta 0:00:01\r\u001b[K     |████████████▌                   | 399kB 4.5MB/s eta 0:00:01\r\u001b[K     |████████████▉                   | 409kB 4.5MB/s eta 0:00:01\r\u001b[K     |█████████████▏                  | 419kB 4.5MB/s eta 0:00:01\r\u001b[K     |█████████████▌                  | 430kB 4.5MB/s eta 0:00:01\r\u001b[K     |█████████████▉                  | 440kB 4.5MB/s eta 0:00:01\r\u001b[K     |██████████████▏                 | 450kB 4.5MB/s eta 0:00:01\r\u001b[K     |██████████████▍                 | 460kB 4.5MB/s eta 0:00:01\r\u001b[K     |██████████████▊                 | 471kB 4.5MB/s eta 0:00:01\r\u001b[K     |███████████████                 | 481kB 4.5MB/s eta 0:00:01\r\u001b[K     |███████████████▍                | 491kB 4.5MB/s eta 0:00:01\r\u001b[K     |███████████████▊                | 501kB 4.5MB/s eta 0:00:01\r\u001b[K     |████████████████                | 512kB 4.5MB/s eta 0:00:01\r\u001b[K     |████████████████▍               | 522kB 4.5MB/s eta 0:00:01\r\u001b[K     |████████████████▊               | 532kB 4.5MB/s eta 0:00:01\r\u001b[K     |█████████████████               | 542kB 4.5MB/s eta 0:00:01\r\u001b[K     |█████████████████▎              | 552kB 4.5MB/s eta 0:00:01\r\u001b[K     |█████████████████▋              | 563kB 4.5MB/s eta 0:00:01\r\u001b[K     |██████████████████              | 573kB 4.5MB/s eta 0:00:01\r\u001b[K     |██████████████████▎             | 583kB 4.5MB/s eta 0:00:01\r\u001b[K     |██████████████████▋             | 593kB 4.5MB/s eta 0:00:01\r\u001b[K     |███████████████████             | 604kB 4.5MB/s eta 0:00:01\r\u001b[K     |███████████████████▎            | 614kB 4.5MB/s eta 0:00:01\r\u001b[K     |███████████████████▋            | 624kB 4.5MB/s eta 0:00:01\r\u001b[K     |████████████████████            | 634kB 4.5MB/s eta 0:00:01\r\u001b[K     |████████████████████▏           | 645kB 4.5MB/s eta 0:00:01\r\u001b[K     |████████████████████▌           | 655kB 4.5MB/s eta 0:00:01\r\u001b[K     |████████████████████▉           | 665kB 4.5MB/s eta 0:00:01\r\u001b[K     |█████████████████████▏          | 675kB 4.5MB/s eta 0:00:01\r\u001b[K     |█████████████████████▌          | 686kB 4.5MB/s eta 0:00:01\r\u001b[K     |█████████████████████▉          | 696kB 4.5MB/s eta 0:00:01\r\u001b[K     |██████████████████████▏         | 706kB 4.5MB/s eta 0:00:01\r\u001b[K     |██████████████████████▌         | 716kB 4.5MB/s eta 0:00:01\r\u001b[K     |██████████████████████▉         | 727kB 4.5MB/s eta 0:00:01\r\u001b[K     |███████████████████████         | 737kB 4.5MB/s eta 0:00:01\r\u001b[K     |███████████████████████▍        | 747kB 4.5MB/s eta 0:00:01\r\u001b[K     |███████████████████████▊        | 757kB 4.5MB/s eta 0:00:01\r\u001b[K     |████████████████████████        | 768kB 4.5MB/s eta 0:00:01\r\u001b[K     |████████████████████████▍       | 778kB 4.5MB/s eta 0:00:01\r\u001b[K     |████████████████████████▊       | 788kB 4.5MB/s eta 0:00:01\r\u001b[K     |█████████████████████████       | 798kB 4.5MB/s eta 0:00:01\r\u001b[K     |█████████████████████████▍      | 808kB 4.5MB/s eta 0:00:01\r\u001b[K     |█████████████████████████▊      | 819kB 4.5MB/s eta 0:00:01\r\u001b[K     |██████████████████████████      | 829kB 4.5MB/s eta 0:00:01\r\u001b[K     |██████████████████████████▎     | 839kB 4.5MB/s eta 0:00:01\r\u001b[K     |██████████████████████████▋     | 849kB 4.5MB/s eta 0:00:01\r\u001b[K     |███████████████████████████     | 860kB 4.5MB/s eta 0:00:01\r\u001b[K     |███████████████████████████▎    | 870kB 4.5MB/s eta 0:00:01\r\u001b[K     |███████████████████████████▋    | 880kB 4.5MB/s eta 0:00:01\r\u001b[K     |████████████████████████████    | 890kB 4.5MB/s eta 0:00:01\r\u001b[K     |████████████████████████████▎   | 901kB 4.5MB/s eta 0:00:01\r\u001b[K     |████████████████████████████▋   | 911kB 4.5MB/s eta 0:00:01\r\u001b[K     |████████████████████████████▉   | 921kB 4.5MB/s eta 0:00:01\r\u001b[K     |█████████████████████████████▏  | 931kB 4.5MB/s eta 0:00:01\r\u001b[K     |█████████████████████████████▌  | 942kB 4.5MB/s eta 0:00:01\r\u001b[K     |█████████████████████████████▉  | 952kB 4.5MB/s eta 0:00:01\r\u001b[K     |██████████████████████████████▏ | 962kB 4.5MB/s eta 0:00:01\r\u001b[K     |██████████████████████████████▌ | 972kB 4.5MB/s eta 0:00:01\r\u001b[K     |██████████████████████████████▉ | 983kB 4.5MB/s eta 0:00:01\r\u001b[K     |███████████████████████████████▏| 993kB 4.5MB/s eta 0:00:01\r\u001b[K     |███████████████████████████████▌| 1.0MB 4.5MB/s eta 0:00:01\r\u001b[K     |███████████████████████████████▊| 1.0MB 4.5MB/s eta 0:00:01\r\u001b[K     |████████████████████████████████| 1.0MB 4.5MB/s \n",
            "\u001b[?25h  Building wheel for tensorflow-docs (setup.py) ... \u001b[?25l\u001b[?25hdone\n"
          ],
          "name": "stdout"
        }
      ]
    },
    {
      "cell_type": "code",
      "metadata": {
        "id": "bWM5GrX6IQhC"
      },
      "source": [
        "import tensorflow_docs as tfdocs\n",
        "import tensorflow_docs.modeling\n",
        "import tensorflow_docs.plots"
      ],
      "execution_count": 3,
      "outputs": []
    },
    {
      "cell_type": "code",
      "metadata": {
        "id": "TM8xwIDQIQd2"
      },
      "source": [
        "from  IPython import display\n",
        "from matplotlib import pyplot as plt\n",
        "\n",
        "import numpy as np\n",
        "\n",
        "import pathlib\n",
        "import shutil\n",
        "import tempfile"
      ],
      "execution_count": 4,
      "outputs": []
    },
    {
      "cell_type": "code",
      "metadata": {
        "id": "VrVpPxhUIQak"
      },
      "source": [
        "logdir = pathlib.Path(tempfile.mkdtemp())/\"tensorboard_logs\"\n",
        "shutil.rmtree(logdir, ignore_errors=True)"
      ],
      "execution_count": 5,
      "outputs": []
    },
    {
      "cell_type": "markdown",
      "metadata": {
        "id": "YvhBvvLRIeZY"
      },
      "source": [
        "###The Higgs Dataset\n",
        "- It contains 11 000 000 examples, each with 28 features, and a binary class label."
      ]
    },
    {
      "cell_type": "code",
      "metadata": {
        "colab": {
          "base_uri": "https://localhost:8080/"
        },
        "id": "XouSXU4HIQXh",
        "outputId": "3f7ec923-4d2d-482f-9c21-7db6148c8b57"
      },
      "source": [
        "gz = tf.keras.utils.get_file('HIGGS.csv.gz', 'http://mlphysics.ics.uci.edu/data/higgs/HIGGS.csv.gz')\n",
        "FEATURES = 28"
      ],
      "execution_count": 7,
      "outputs": [
        {
          "output_type": "stream",
          "text": [
            "Downloading data from http://mlphysics.ics.uci.edu/data/higgs/HIGGS.csv.gz\n",
            "2816409600/2816407858 [==============================] - 106s 0us/step\n"
          ],
          "name": "stdout"
        }
      ]
    },
    {
      "cell_type": "markdown",
      "metadata": {
        "id": "_xP4o7M-I29W"
      },
      "source": [
        "- The tf.data.experimental.CsvDataset class can be used to read csv records directly from a gzip file with no intermediate decompression step."
      ]
    },
    {
      "cell_type": "code",
      "metadata": {
        "id": "RiomRYQGIQUM"
      },
      "source": [
        "ds = tf.data.experimental.CsvDataset(gz,[float(),]*(FEATURES+1), compression_type=\"GZIP\")"
      ],
      "execution_count": 10,
      "outputs": []
    },
    {
      "cell_type": "markdown",
      "metadata": {
        "id": "GDC-xpcRJHt8"
      },
      "source": [
        "- That csv reader class returns a list of scalars for each record.\n",
        "- The following function repacks that list of scalars into a (feature_vector, label) pair."
      ]
    },
    {
      "cell_type": "code",
      "metadata": {
        "id": "sD33zM-fIQQN"
      },
      "source": [
        "def pack_row(*row):\n",
        "  label = row[0]\n",
        "  features = tf.stack(row[1:],1)\n",
        "  return features, label"
      ],
      "execution_count": 11,
      "outputs": []
    },
    {
      "cell_type": "markdown",
      "metadata": {
        "id": "-5urqFsXJknb"
      },
      "source": [
        "- TensorFlow is most efficient when operating on large batches of data.\n",
        "\n",
        "- So instead of repacking each row individually make a new Dataset that takes batches of 10000-examples, applies the pack_row function to each batch, and then splits the batches back up into individual records:"
      ]
    },
    {
      "cell_type": "code",
      "metadata": {
        "id": "gw3Ys4i_IQM1"
      },
      "source": [
        "packed_ds = ds.batch(10000).map(pack_row).unbatch()"
      ],
      "execution_count": 12,
      "outputs": []
    },
    {
      "cell_type": "markdown",
      "metadata": {
        "id": "IIGHl4qQJ1RP"
      },
      "source": [
        "- Have a look at some of the records from this new packed_ds.\n",
        "\n",
        "- The features are not perfectly normalized,"
      ]
    },
    {
      "cell_type": "code",
      "metadata": {
        "colab": {
          "base_uri": "https://localhost:8080/",
          "height": 369
        },
        "id": "I1yC0qIiJs0e",
        "outputId": "f6445dc2-8055-4c46-b27e-b514e9ca88e5"
      },
      "source": [
        "for features,label in packed_ds.batch(1000).take(1):\n",
        "  print(features[0])\n",
        "  plt.hist(features.numpy().flatten(), bins = 101)"
      ],
      "execution_count": 13,
      "outputs": [
        {
          "output_type": "stream",
          "text": [
            "tf.Tensor(\n",
            "[ 0.8692932  -0.6350818   0.22569026  0.32747006 -0.6899932   0.75420225\n",
            " -0.24857314 -1.0920639   0.          1.3749921  -0.6536742   0.9303491\n",
            "  1.1074361   1.1389043  -1.5781983  -1.0469854   0.          0.65792954\n",
            " -0.01045457 -0.04576717  3.1019614   1.35376     0.9795631   0.97807616\n",
            "  0.92000484  0.72165745  0.98875093  0.87667835], shape=(28,), dtype=float32)\n"
          ],
          "name": "stdout"
        },
        {
          "output_type": "display_data",
          "data": {
            "image/png": "[encoded data removed]",
            "text/plain": [
              "<Figure size 432x288 with 1 Axes>"
            ]
          },
          "metadata": {
            "tags": [],
            "needs_background": "light"
          }
        }
      ]
    },
    {
      "cell_type": "markdown",
      "metadata": {
        "id": "UpjnM3C9KbZ2"
      },
      "source": [
        "- To keep this tutorial relatively short use just the first 1000 samples for validation, and the next 10 000 for training"
      ]
    },
    {
      "cell_type": "code",
      "metadata": {
        "id": "sFDpQmLBJ7qY"
      },
      "source": [
        "N_VALIDATION = int(1e3)\n",
        "N_TRAIN = int(1e4)\n",
        "BUFFER_SIZE = int(1e4)\n",
        "BATCH_SIZE = 500\n",
        "STEPS_PER_EPOCH = N_TRAIN//BATCH_SIZE"
      ],
      "execution_count": 14,
      "outputs": []
    },
    {
      "cell_type": "markdown",
      "metadata": {
        "id": "XiAGObtWKlO6"
      },
      "source": [
        "- The Dataset.skip and Dataset.take methods make this easy\n",
        "-  use the Dataset.cache method to ensure that the loader doesn't need to re-read the data from the file on each epoch"
      ]
    },
    {
      "cell_type": "code",
      "metadata": {
        "id": "ip0e9b7gKemj"
      },
      "source": [
        "validate_ds = packed_ds.take(N_VALIDATION).cache()\n",
        "train_ds = packed_ds.skip(N_VALIDATION).take(N_TRAIN).cache()"
      ],
      "execution_count": 15,
      "outputs": []
    },
    {
      "cell_type": "code",
      "metadata": {
        "colab": {
          "base_uri": "https://localhost:8080/"
        },
        "id": "tSGc75BJKnsG",
        "outputId": "000e6b59-1639-4cdc-c2cb-040ee8c6679c"
      },
      "source": [
        "train_ds\n"
      ],
      "execution_count": 16,
      "outputs": [
        {
          "output_type": "execute_result",
          "data": {
            "text/plain": [
              "<CacheDataset shapes: ((28,), ()), types: (tf.float32, tf.float32)>"
            ]
          },
          "metadata": {
            "tags": []
          },
          "execution_count": 16
        }
      ]
    },
    {
      "cell_type": "markdown",
      "metadata": {
        "id": "4ak5cq-NK6A7"
      },
      "source": [
        "- These datasets return individual examples. \n",
        "- Use the .batch method to create batches of an appropriate size for training.\n",
        "- Before batching also remember to .shuffle and .repeat the training set."
      ]
    },
    {
      "cell_type": "code",
      "metadata": {
        "id": "XDl6Wl6mKpwI"
      },
      "source": [
        "validate_ds = validate_ds.batch(BATCH_SIZE)\n",
        "train_ds = train_ds.shuffle(BUFFER_SIZE).repeat().batch(BATCH_SIZE)"
      ],
      "execution_count": 17,
      "outputs": []
    },
    {
      "cell_type": "markdown",
      "metadata": {
        "id": "BGapCiZYPTca"
      },
      "source": [
        "###Demonstrate overfitting\n",
        "##Training Procedure\n",
        "- Many models train better if you gradually reduce the learning rate during training. Use optimizers.schedules to reduce the learning rate over time\n",
        "-  schedules.InverseTimeDecay hyperbolically decrease the learning rate to 1/2 of the base rate at 1000 epochs, 1/3 at 2000 epochs and so on"
      ]
    },
    {
      "cell_type": "code",
      "metadata": {
        "id": "SWTXlmFkLCbb"
      },
      "source": [
        "lr_schedule = tf.keras.optimizers.schedules.InverseTimeDecay(\n",
        "  0.001,\n",
        "  decay_steps=STEPS_PER_EPOCH*1000,\n",
        "  decay_rate=1,\n",
        "  staircase=False)\n",
        "\n",
        "def get_optimizer():\n",
        "  return tf.keras.optimizers.Adam(lr_schedule)"
      ],
      "execution_count": 18,
      "outputs": []
    },
    {
      "cell_type": "code",
      "metadata": {
        "colab": {
          "base_uri": "https://localhost:8080/",
          "height": 388
        },
        "id": "BQTwOUDaPyh9",
        "outputId": "c9007f47-a94a-43ba-a295-f3db6ef15ccf"
      },
      "source": [
        "step = np.linspace(0,100000)\n",
        "lr = lr_schedule(step)\n",
        "plt.figure(figsize = (8,6))\n",
        "plt.plot(step/STEPS_PER_EPOCH, lr)\n",
        "plt.ylim([0,max(plt.ylim())])\n",
        "plt.xlabel('Epoch')\n",
        "_ = plt.ylabel('Learning Rate')"
      ],
      "execution_count": 19,
      "outputs": [
        {
          "output_type": "display_data",
          "data": {
            "image/png": "[encoded data removed]",
            "text/plain": [
              "<Figure size 576x432 with 1 Axes>"
            ]
          },
          "metadata": {
            "tags": [],
            "needs_background": "light"
          }
        }
      ]
    },
    {
      "cell_type": "markdown",
      "metadata": {
        "id": "CnqH6OSPQQzZ"
      },
      "source": [
        "- The training for this tutorial runs for many short epochs. To reduce the logging noise use the tfdocs.EpochDots which simply prints a . for each epoch, and a full set of metrics every 100 epochs.\n",
        "\n",
        "- Next include callbacks.EarlyStopping to avoid long and unnecessary training times. Note that this callback is set to monitor the val_binary_crossentropy, not the val_loss. This difference will be important later.\n",
        "\n",
        "- Use callbacks.TensorBoard to generate TensorBoard logs for the training"
      ]
    },
    {
      "cell_type": "code",
      "metadata": {
        "id": "L6fnQFm2P29W"
      },
      "source": [
        "def get_callbacks(name):\n",
        "  return [\n",
        "    tfdocs.modeling.EpochDots(),\n",
        "    tf.keras.callbacks.EarlyStopping(monitor='val_binary_crossentropy', patience=200),\n",
        "    tf.keras.callbacks.TensorBoard(logdir/name),\n",
        "  ]"
      ],
      "execution_count": 20,
      "outputs": []
    },
    {
      "cell_type": "markdown",
      "metadata": {
        "id": "UepBOzWdQc8n"
      },
      "source": [
        "- Similarly each model will use the same Model.compile and Model.fit settings"
      ]
    },
    {
      "cell_type": "code",
      "metadata": {
        "id": "o8IXDVMQQdkx"
      },
      "source": [
        "def compile_and_fit(model, name, optimizer=None, max_epochs=10000):\n",
        "  if optimizer is None:\n",
        "    optimizer = get_optimizer()\n",
        "  model.compile(optimizer=optimizer,\n",
        "                loss=tf.keras.losses.BinaryCrossentropy(from_logits=True),\n",
        "                metrics=[\n",
        "                  tf.keras.losses.BinaryCrossentropy(\n",
        "                      from_logits=True, name='binary_crossentropy'),\n",
        "                  'accuracy'])\n",
        "\n",
        "  model.summary()\n",
        "\n",
        "  history = model.fit(\n",
        "    train_ds,\n",
        "    steps_per_epoch = STEPS_PER_EPOCH,\n",
        "    epochs=max_epochs,\n",
        "    validation_data=validate_ds,\n",
        "    callbacks=get_callbacks(name),\n",
        "    verbose=0)\n",
        "  return history"
      ],
      "execution_count": 21,
      "outputs": []
    },
    {
      "cell_type": "markdown",
      "metadata": {
        "id": "TMfi4fDhREeB"
      },
      "source": [
        "###Tiny Model\n",
        "\n",
        "- Start by training a model:"
      ]
    },
    {
      "cell_type": "code",
      "metadata": {
        "id": "6JeZ7Bv-Qx3j"
      },
      "source": [
        "tiny_model = tf.keras.Sequential([\n",
        "    layers.Dense(16, activation='elu', input_shape=(FEATURES,)),\n",
        "    layers.Dense(1)\n",
        "])"
      ],
      "execution_count": 22,
      "outputs": []
    },
    {
      "cell_type": "code",
      "metadata": {
        "id": "0inNwCuERRke"
      },
      "source": [
        "size_histories = {}"
      ],
      "execution_count": 23,
      "outputs": []
    },
    {
      "cell_type": "code",
      "metadata": {
        "colab": {
          "base_uri": "https://localhost:8080/"
        },
        "id": "0yWrpH51RTfF",
        "outputId": "741a5d11-a819-4bf3-a0ef-588d5f262f40"
      },
      "source": [
        "size_histories['Tiny'] = compile_and_fit(tiny_model, 'sizes/Tiny')"
      ],
      "execution_count": 24,
      "outputs": [
        {
          "output_type": "stream",
          "text": [
            "Model: \"sequential\"\n",
            "_________________________________________________________________\n",
            "Layer (type)                 Output Shape              Param #   \n",
            "=================================================================\n",
            "dense (Dense)                (None, 16)                464       \n",
            "_________________________________________________________________\n",
            "dense_1 (Dense)              (None, 1)                 17        \n",
            "=================================================================\n",
            "Total params: 481\n",
            "Trainable params: 481\n",
            "Non-trainable params: 0\n",
            "_________________________________________________________________\n",
            "WARNING:tensorflow:From /usr/local/lib/python3.6/dist-packages/tensorflow/python/ops/summary_ops_v2.py:1277: stop (from tensorflow.python.eager.profiler) is deprecated and will be removed after 2020-07-01.\n",
            "Instructions for updating:\n",
            "use `tf.profiler.experimental.stop` instead.\n",
            "WARNING:tensorflow:Callbacks method `on_train_batch_end` is slow compared to the batch time (batch time: 0.0059s vs `on_train_batch_end` time: 0.0580s). Check your callbacks.\n",
            "\n",
            "Epoch: 0, accuracy:0.4997,  binary_crossentropy:0.7643,  loss:0.7643,  val_accuracy:0.4810,  val_binary_crossentropy:0.7586,  val_loss:0.7586,  \n",
            "....................................................................................................\n",
            "Epoch: 100, accuracy:0.5981,  binary_crossentropy:0.6274,  loss:0.6274,  val_accuracy:0.5890,  val_binary_crossentropy:0.6285,  val_loss:0.6285,  \n",
            "....................................................................................................\n",
            "Epoch: 200, accuracy:0.6157,  binary_crossentropy:0.6170,  loss:0.6170,  val_accuracy:0.6200,  val_binary_crossentropy:0.6177,  val_loss:0.6177,  \n",
            "....................................................................................................\n",
            "Epoch: 300, accuracy:0.6298,  binary_crossentropy:0.6094,  loss:0.6094,  val_accuracy:0.6120,  val_binary_crossentropy:0.6125,  val_loss:0.6125,  \n",
            "....................................................................................................\n",
            "Epoch: 400, accuracy:0.6398,  binary_crossentropy:0.6034,  loss:0.6034,  val_accuracy:0.6260,  val_binary_crossentropy:0.6052,  val_loss:0.6052,  \n",
            "....................................................................................................\n",
            "Epoch: 500, accuracy:0.6499,  binary_crossentropy:0.5977,  loss:0.5977,  val_accuracy:0.6320,  val_binary_crossentropy:0.6005,  val_loss:0.6005,  \n",
            "....................................................................................................\n",
            "Epoch: 600, accuracy:0.6570,  binary_crossentropy:0.5920,  loss:0.5920,  val_accuracy:0.6410,  val_binary_crossentropy:0.5941,  val_loss:0.5941,  \n",
            "....................................................................................................\n",
            "Epoch: 700, accuracy:0.6632,  binary_crossentropy:0.5876,  loss:0.5876,  val_accuracy:0.6480,  val_binary_crossentropy:0.5895,  val_loss:0.5895,  \n",
            "....................................................................................................\n",
            "Epoch: 800, accuracy:0.6629,  binary_crossentropy:0.5845,  loss:0.5845,  val_accuracy:0.6600,  val_binary_crossentropy:0.5884,  val_loss:0.5884,  \n",
            "....................................................................................................\n",
            "Epoch: 900, accuracy:0.6739,  binary_crossentropy:0.5814,  loss:0.5814,  val_accuracy:0.6510,  val_binary_crossentropy:0.5887,  val_loss:0.5887,  \n",
            "....................................................................................................\n",
            "Epoch: 1000, accuracy:0.6757,  binary_crossentropy:0.5794,  loss:0.5794,  val_accuracy:0.6540,  val_binary_crossentropy:0.5891,  val_loss:0.5891,  \n",
            "....................................................................................................\n",
            "Epoch: 1100, accuracy:0.6818,  binary_crossentropy:0.5777,  loss:0.5777,  val_accuracy:0.6470,  val_binary_crossentropy:0.5899,  val_loss:0.5899,  \n",
            "....................................................."
          ],
          "name": "stdout"
        }
      ]
    },
    {
      "cell_type": "markdown",
      "metadata": {
        "id": "Ox-50WeDRXm8"
      },
      "source": [
        "- Now check how the model did:"
      ]
    },
    {
      "cell_type": "code",
      "metadata": {
        "colab": {
          "base_uri": "https://localhost:8080/",
          "height": 300
        },
        "id": "VbziMWjfRVG0",
        "outputId": "7fdbacb1-1cdb-482f-ba67-532d16ddf5d8"
      },
      "source": [
        "plotter = tfdocs.plots.HistoryPlotter(metric = 'binary_crossentropy', smoothing_std=10)\n",
        "plotter.plot(size_histories)\n",
        "plt.ylim([0.5, 0.7])"
      ],
      "execution_count": 25,
      "outputs": [
        {
          "output_type": "execute_result",
          "data": {
            "text/plain": [
              "(0.5, 0.7)"
            ]
          },
          "metadata": {
            "tags": []
          },
          "execution_count": 25
        },
        {
          "output_type": "display_data",
          "data": {
            "image/png": "[encoded data removed]",
            "text/plain": [
              "<Figure size 432x288 with 1 Axes>"
            ]
          },
          "metadata": {
            "tags": [],
            "needs_background": "light"
          }
        }
      ]
    },
    {
      "cell_type": "markdown",
      "metadata": {
        "id": "_Ve0levcRgVm"
      },
      "source": [
        "###Small model\n",
        "- To see if you can beat the performance of the small model, progressively train some larger models.\n",
        "\n",
        "- Try two hidden layers with 16 units each"
      ]
    },
    {
      "cell_type": "code",
      "metadata": {
        "id": "-6KwPjjkRdhS"
      },
      "source": [
        "small_model = tf.keras.Sequential([\n",
        "    # `input_shape` is only required here so that `.summary` works.\n",
        "    layers.Dense(16, activation='elu', input_shape=(FEATURES,)),\n",
        "    layers.Dense(16, activation='elu'),\n",
        "    layers.Dense(1)\n",
        "])"
      ],
      "execution_count": 26,
      "outputs": []
    },
    {
      "cell_type": "code",
      "metadata": {
        "colab": {
          "base_uri": "https://localhost:8080/"
        },
        "id": "mXVV7c5MRpDz",
        "outputId": "5ffcb5a5-b04a-463c-f3e6-93a21e41cd03"
      },
      "source": [
        "size_histories['Small'] = compile_and_fit(small_model, 'sizes/Small')"
      ],
      "execution_count": 27,
      "outputs": [
        {
          "output_type": "stream",
          "text": [
            "Model: \"sequential_1\"\n",
            "_________________________________________________________________\n",
            "Layer (type)                 Output Shape              Param #   \n",
            "=================================================================\n",
            "dense_2 (Dense)              (None, 16)                464       \n",
            "_________________________________________________________________\n",
            "dense_3 (Dense)              (None, 16)                272       \n",
            "_________________________________________________________________\n",
            "dense_4 (Dense)              (None, 1)                 17        \n",
            "=================================================================\n",
            "Total params: 753\n",
            "Trainable params: 753\n",
            "Non-trainable params: 0\n",
            "_________________________________________________________________\n",
            "WARNING:tensorflow:Callbacks method `on_train_batch_end` is slow compared to the batch time (batch time: 0.0040s vs `on_train_batch_end` time: 0.0617s). Check your callbacks.\n",
            "\n",
            "Epoch: 0, accuracy:0.4801,  binary_crossentropy:0.7821,  loss:0.7821,  val_accuracy:0.4880,  val_binary_crossentropy:0.7327,  val_loss:0.7327,  \n",
            "....................................................................................................\n",
            "Epoch: 100, accuracy:0.6239,  binary_crossentropy:0.6099,  loss:0.6099,  val_accuracy:0.5800,  val_binary_crossentropy:0.6267,  val_loss:0.6267,  \n",
            "....................................................................................................\n",
            "Epoch: 200, accuracy:0.6691,  binary_crossentropy:0.5870,  loss:0.5870,  val_accuracy:0.6440,  val_binary_crossentropy:0.6071,  val_loss:0.6071,  \n",
            "....................................................................................................\n",
            "Epoch: 300, accuracy:0.6757,  binary_crossentropy:0.5782,  loss:0.5782,  val_accuracy:0.6580,  val_binary_crossentropy:0.6054,  val_loss:0.6054,  \n",
            "....................................................................................................\n",
            "Epoch: 400, accuracy:0.6843,  binary_crossentropy:0.5692,  loss:0.5692,  val_accuracy:0.6500,  val_binary_crossentropy:0.6059,  val_loss:0.6059,  \n",
            ".............................................................."
          ],
          "name": "stdout"
        }
      ]
    },
    {
      "cell_type": "markdown",
      "metadata": {
        "id": "hx-CJ9pWRuCX"
      },
      "source": [
        "###Medium model\n",
        "\n",
        "- Now try 3 hidden layers with 64 units each:"
      ]
    },
    {
      "cell_type": "code",
      "metadata": {
        "id": "9uxObXKGRqwX"
      },
      "source": [
        "medium_model = tf.keras.Sequential([\n",
        "    layers.Dense(64, activation='elu', input_shape=(FEATURES,)),\n",
        "    layers.Dense(64, activation='elu'),\n",
        "    layers.Dense(64, activation='elu'),\n",
        "    layers.Dense(1)\n",
        "])"
      ],
      "execution_count": 28,
      "outputs": []
    },
    {
      "cell_type": "markdown",
      "metadata": {
        "id": "xKLT_WeERzy5"
      },
      "source": [
        "- And train the model using the same data:"
      ]
    },
    {
      "cell_type": "code",
      "metadata": {
        "colab": {
          "base_uri": "https://localhost:8080/"
        },
        "id": "uoRoFPR8RxhZ",
        "outputId": "b3b073cb-666c-4c1f-d602-9cd2d2543853"
      },
      "source": [
        "size_histories['Medium']  = compile_and_fit(medium_model, \"sizes/Medium\")"
      ],
      "execution_count": 29,
      "outputs": [
        {
          "output_type": "stream",
          "text": [
            "Model: \"sequential_2\"\n",
            "_________________________________________________________________\n",
            "Layer (type)                 Output Shape              Param #   \n",
            "=================================================================\n",
            "dense_5 (Dense)              (None, 64)                1856      \n",
            "_________________________________________________________________\n",
            "dense_6 (Dense)              (None, 64)                4160      \n",
            "_________________________________________________________________\n",
            "dense_7 (Dense)              (None, 64)                4160      \n",
            "_________________________________________________________________\n",
            "dense_8 (Dense)              (None, 1)                 65        \n",
            "=================================================================\n",
            "Total params: 10,241\n",
            "Trainable params: 10,241\n",
            "Non-trainable params: 0\n",
            "_________________________________________________________________\n",
            "WARNING:tensorflow:Callbacks method `on_train_batch_end` is slow compared to the batch time (batch time: 0.0047s vs `on_train_batch_end` time: 0.0565s). Check your callbacks.\n",
            "\n",
            "Epoch: 0, accuracy:0.4910,  binary_crossentropy:0.6935,  loss:0.6935,  val_accuracy:0.5050,  val_binary_crossentropy:0.6806,  val_loss:0.6806,  \n",
            "....................................................................................................\n",
            "Epoch: 100, accuracy:0.7212,  binary_crossentropy:0.5277,  loss:0.5277,  val_accuracy:0.6570,  val_binary_crossentropy:0.6155,  val_loss:0.6155,  \n",
            "....................................................................................................\n",
            "Epoch: 200, accuracy:0.7859,  binary_crossentropy:0.4286,  loss:0.4286,  val_accuracy:0.6290,  val_binary_crossentropy:0.7084,  val_loss:0.7084,  \n",
            "........................................."
          ],
          "name": "stdout"
        }
      ]
    },
    {
      "cell_type": "markdown",
      "metadata": {
        "id": "cpmDiR0nR9aP"
      },
      "source": [
        "###Large model\n",
        "\n",
        "- see how quickly it begins overfitting."
      ]
    },
    {
      "cell_type": "code",
      "metadata": {
        "id": "LvkrroeiR1yO"
      },
      "source": [
        "large_model = tf.keras.Sequential([\n",
        "    layers.Dense(512, activation='elu', input_shape=(FEATURES,)),\n",
        "    layers.Dense(512, activation='elu'),\n",
        "    layers.Dense(512, activation='elu'),\n",
        "    layers.Dense(512, activation='elu'),\n",
        "    layers.Dense(1)\n",
        "])"
      ],
      "execution_count": 30,
      "outputs": []
    },
    {
      "cell_type": "markdown",
      "metadata": {
        "id": "viQhPCEzSEj4"
      },
      "source": [
        "- And, again, train the model using the same data:"
      ]
    },
    {
      "cell_type": "code",
      "metadata": {
        "colab": {
          "base_uri": "https://localhost:8080/"
        },
        "id": "mLutsFLcSCzv",
        "outputId": "2298d2c9-22b9-404e-db2c-8a8f90ab63e2"
      },
      "source": [
        "size_histories['large'] = compile_and_fit(large_model, \"sizes/large\")\n"
      ],
      "execution_count": 31,
      "outputs": [
        {
          "output_type": "stream",
          "text": [
            "Model: \"sequential_3\"\n",
            "_________________________________________________________________\n",
            "Layer (type)                 Output Shape              Param #   \n",
            "=================================================================\n",
            "dense_9 (Dense)              (None, 512)               14848     \n",
            "_________________________________________________________________\n",
            "dense_10 (Dense)             (None, 512)               262656    \n",
            "_________________________________________________________________\n",
            "dense_11 (Dense)             (None, 512)               262656    \n",
            "_________________________________________________________________\n",
            "dense_12 (Dense)             (None, 512)               262656    \n",
            "_________________________________________________________________\n",
            "dense_13 (Dense)             (None, 1)                 513       \n",
            "=================================================================\n",
            "Total params: 803,329\n",
            "Trainable params: 803,329\n",
            "Non-trainable params: 0\n",
            "_________________________________________________________________\n",
            "\n",
            "Epoch: 0, accuracy:0.5073,  binary_crossentropy:0.8477,  loss:0.8477,  val_accuracy:0.4700,  val_binary_crossentropy:0.6988,  val_loss:0.6988,  \n",
            "....................................................................................................\n",
            "Epoch: 100, accuracy:1.0000,  binary_crossentropy:0.0024,  loss:0.0024,  val_accuracy:0.6540,  val_binary_crossentropy:1.7967,  val_loss:1.7967,  \n",
            "....................................................................................................\n",
            "Epoch: 200, accuracy:1.0000,  binary_crossentropy:0.0001,  loss:0.0001,  val_accuracy:0.6580,  val_binary_crossentropy:2.4767,  val_loss:2.4767,  \n",
            "......................"
          ],
          "name": "stdout"
        }
      ]
    },
    {
      "cell_type": "markdown",
      "metadata": {
        "id": "ZGnFmRk1ScgC"
      },
      "source": [
        "###Plot the training and validation losses\n",
        "- The solid lines show the training loss\n",
        "- The dashed lines show the validation loss (remember: a lower validation loss indicates a better model)"
      ]
    },
    {
      "cell_type": "code",
      "metadata": {
        "colab": {
          "base_uri": "https://localhost:8080/",
          "height": 304
        },
        "id": "9_AnVrTxSGpN",
        "outputId": "e189e5de-82a1-48fe-b738-617f4a4b577d"
      },
      "source": [
        "plotter.plot(size_histories)\n",
        "a = plt.xscale('log')\n",
        "plt.xlim([5, max(plt.xlim())])\n",
        "plt.ylim([0.5, 0.7])\n",
        "plt.xlabel(\"Epochs [Log Scale]\")"
      ],
      "execution_count": 32,
      "outputs": [
        {
          "output_type": "execute_result",
          "data": {
            "text/plain": [
              "Text(0.5, 0, 'Epochs [Log Scale]')"
            ]
          },
          "metadata": {
            "tags": []
          },
          "execution_count": 32
        },
        {
          "output_type": "display_data",
          "data": {
            "image/png": "[encoded data removed]",
            "text/plain": [
              "<Figure size 432x288 with 1 Axes>"
            ]
          },
          "metadata": {
            "tags": [],
            "needs_background": "light"
          }
        }
      ]
    },
    {
      "cell_type": "markdown",
      "metadata": {
        "id": "e6_Br4S4TJMh"
      },
      "source": [
        "- This is apparent if you plot and compare the validation metrics to the training metrics.\n",
        "\n",
        "    - It's normal for there to be a small difference.\n",
        "    - If both metrics are moving in the same direction, everything is fine.\n",
        "    - If the validation metric begins to stagnate while the training metric continues to improve, you are probably close to overfitting.\n",
        "    - If the validation metric is going in the wrong direction, the model is clearly overfitting.\n"
      ]
    },
    {
      "cell_type": "markdown",
      "metadata": {
        "id": "2d4cNAAoTVj0"
      },
      "source": [
        "**here the tiny model performed well**\n",
        "- All the above training runs used the callbacks.EarlyStopping to end the training once it was clear the model was not making progress"
      ]
    },
    {
      "cell_type": "markdown",
      "metadata": {
        "id": "7gjN4G_DTkqE"
      },
      "source": [
        "###View in TensorBoard\n",
        "- Open an embedded TensorBoard viewer inside a notebook\n",
        "- TensorBoard.dev is a managed experience for hosting, tracking, and sharing ML experiments with everyone.\n",
        "\n",
        "- It's also included in an iframe for convenience"
      ]
    },
    {
      "cell_type": "code",
      "metadata": {
        "colab": {
          "base_uri": "https://localhost:8080/",
          "height": 873
        },
        "id": "iK2A1vqpTMV-",
        "outputId": "a75cf26a-621a-4ab4-8d80-292e98b13ac7"
      },
      "source": [
        "\n",
        "# Load the TensorBoard notebook extension\n",
        "%load_ext tensorboard\n",
        "\n",
        "# Open an embedded TensorBoard viewer\n",
        "%tensorboard --logdir {logdir}/sizes"
      ],
      "execution_count": 34,
      "outputs": [
        {
          "output_type": "stream",
          "text": [
            "The tensorboard extension is already loaded. To reload it, use:\n",
            "  %reload_ext tensorboard\n"
          ],
          "name": "stdout"
        },
        {
          "output_type": "display_data",
          "data": {
            "text/plain": [
              "Reusing TensorBoard on port 6006 (pid 2359), started 0:00:44 ago. (Use '!kill 2359' to kill it.)"
            ]
          },
          "metadata": {
            "tags": []
          }
        },
        {
          "output_type": "display_data",
          "data": {
            "application/javascript": [
              "\n",
              "        (async () => {\n",
              "            const url = await google.colab.kernel.proxyPort(6006, {\"cache\": true});\n",
              "            const iframe = document.createElement('iframe');\n",
              "            iframe.src = url;\n",
              "            iframe.setAttribute('width', '100%');\n",
              "            iframe.setAttribute('height', '800');\n",
              "            iframe.setAttribute('frameborder', 0);\n",
              "            document.body.appendChild(iframe);\n",
              "        })();\n",
              "    "
            ],
            "text/plain": [
              "<IPython.core.display.Javascript object>"
            ]
          },
          "metadata": {
            "tags": []
          }
        }
      ]
    },
    {
      "cell_type": "code",
      "metadata": {
        "colab": {
          "base_uri": "https://localhost:8080/",
          "height": 821
        },
        "id": "OMoHMFIeTq9-",
        "outputId": "d7b3a5fb-0d1e-4fcb-f7ae-d2c3ffba2c33"
      },
      "source": [
        "display.IFrame(\n",
        "    src=\"https://tensorboard.dev/experiment/vW7jmmF9TmKmy3rbheMQpw/#scalars&_smoothingWeight=0.97\",\n",
        "    width=\"100%\", height=\"800px\")"
      ],
      "execution_count": 36,
      "outputs": [
        {
          "output_type": "execute_result",
          "data": {
            "text/html": [
              "\n",
              "        <iframe\n",
              "            width=\"100%\"\n",
              "            height=\"800px\"\n",
              "            src=\"https://tensorboard.dev/experiment/vW7jmmF9TmKmy3rbheMQpw/#scalars&_smoothingWeight=0.97\"\n",
              "            frameborder=\"0\"\n",
              "            allowfullscreen\n",
              "        ></iframe>\n",
              "        "
            ],
            "text/plain": [
              "<IPython.lib.display.IFrame at 0x7fc9f1e66a90>"
            ]
          },
          "metadata": {
            "tags": []
          },
          "execution_count": 36
        }
      ]
    },
    {
      "cell_type": "code",
      "metadata": {
        "id": "D_Xv3ZFFT6HJ"
      },
      "source": [
        "#tensorboard dev upload --logdir  {logdir}/sizes\n",
        "#to continuously upload the logs"
      ],
      "execution_count": null,
      "outputs": []
    },
    {
      "cell_type": "markdown",
      "metadata": {
        "id": "jCi-S_CMVg1h"
      },
      "source": [
        "###Strategies to prevent overfitting\n",
        "- We will be uising the tiny model for the base level comparisions"
      ]
    },
    {
      "cell_type": "code",
      "metadata": {
        "colab": {
          "base_uri": "https://localhost:8080/"
        },
        "id": "_P5zlvoWVq7O",
        "outputId": "fc8d76e4-3aa4-4ca9-8b42-ebab8ba2cf69"
      },
      "source": [
        "shutil.rmtree(logdir/'regularizers/Tiny', ignore_errors=True)\n",
        "shutil.copytree(logdir/'sizes/Tiny', logdir/'regularizers/Tiny')"
      ],
      "execution_count": 37,
      "outputs": [
        {
          "output_type": "execute_result",
          "data": {
            "text/plain": [
              "PosixPath('/tmp/tmpl1euzt_p/tensorboard_logs/regularizers/Tiny')"
            ]
          },
          "metadata": {
            "tags": []
          },
          "execution_count": 37
        }
      ]
    },
    {
      "cell_type": "code",
      "metadata": {
        "id": "32oqOwrLVs0M"
      },
      "source": [
        "regularizer_histories = {}\n",
        "regularizer_histories['Tiny'] = size_histories['Tiny']"
      ],
      "execution_count": 38,
      "outputs": []
    },
    {
      "cell_type": "markdown",
      "metadata": {
        "id": "5zP19geiVy5J"
      },
      "source": [
        "###Add weight regularization\n",
        "- there are multiple sets of weights values (multiple models) that could explain the data, and simpler models are less likely to overfit than complex ones.\n",
        "-  a common way to mitigate overfitting is to put constraints on the complexity of a network by forcing its weights only to take small values, which makes the distribution of weight values more \"regular\". \n",
        "- This is called \"weight regularization\", and it is done by adding to the loss function of the network a cost associated with having large weights. This cost comes in two flavors:\n",
        "\n",
        "    - L1 regularization, where the cost added is proportional to the absolute value of the weights coefficients (i.e. to what is called the \"L1 norm\" of the weights).\n",
        "\n",
        "    - L2 regularization, where the cost added is proportional to the square of the value of the weights coefficients (i.e. to what is called the squared \"L2 norm\" of the weights). L2 regularization is also called weight decay in the context of neural networks. Don't let the different name confuse you: weight decay is mathematically the exact same as L2 regularization.\n",
        "\n",
        "- L1 regularization pushes weights towards exactly zero encouraging a sparse model. L2 regularization will penalize the weights parameters without making them sparse since the penalty goes to zero for small weights. one reason why L2 is more common.\n",
        "\n",
        "- In tf.keras, weight regularization is added by passing weight regularizer instances to layers as keyword arguments. Let's add L2 weight regularization now."
      ]
    },
    {
      "cell_type": "code",
      "metadata": {
        "colab": {
          "base_uri": "https://localhost:8080/"
        },
        "id": "REtToO_rVvzd",
        "outputId": "fa9e1cbc-a2ef-476b-aa39-e68fa875738f"
      },
      "source": [
        "#training the large model with l2 regularization\n",
        "l2_model = tf.keras.Sequential([\n",
        "    layers.Dense(512, activation='elu',\n",
        "                 kernel_regularizer=regularizers.l2(0.001),\n",
        "                 input_shape=(FEATURES,)),\n",
        "    layers.Dense(512, activation='elu',\n",
        "                 kernel_regularizer=regularizers.l2(0.001)),\n",
        "    layers.Dense(512, activation='elu',\n",
        "                 kernel_regularizer=regularizers.l2(0.001)),\n",
        "    layers.Dense(512, activation='elu',\n",
        "                 kernel_regularizer=regularizers.l2(0.001)),\n",
        "    layers.Dense(1)\n",
        "])\n",
        "\n",
        "regularizer_histories['l2'] = compile_and_fit(l2_model, \"regularizers/l2\")"
      ],
      "execution_count": 39,
      "outputs": [
        {
          "output_type": "stream",
          "text": [
            "Model: \"sequential_4\"\n",
            "_________________________________________________________________\n",
            "Layer (type)                 Output Shape              Param #   \n",
            "=================================================================\n",
            "dense_14 (Dense)             (None, 512)               14848     \n",
            "_________________________________________________________________\n",
            "dense_15 (Dense)             (None, 512)               262656    \n",
            "_________________________________________________________________\n",
            "dense_16 (Dense)             (None, 512)               262656    \n",
            "_________________________________________________________________\n",
            "dense_17 (Dense)             (None, 512)               262656    \n",
            "_________________________________________________________________\n",
            "dense_18 (Dense)             (None, 1)                 513       \n",
            "=================================================================\n",
            "Total params: 803,329\n",
            "Trainable params: 803,329\n",
            "Non-trainable params: 0\n",
            "_________________________________________________________________\n",
            "\n",
            "Epoch: 0, accuracy:0.5191,  binary_crossentropy:0.8159,  loss:2.3426,  val_accuracy:0.5650,  val_binary_crossentropy:0.6789,  val_loss:2.1333,  \n",
            "....................................................................................................\n",
            "Epoch: 100, accuracy:0.6506,  binary_crossentropy:0.6054,  loss:0.6298,  val_accuracy:0.6220,  val_binary_crossentropy:0.6139,  val_loss:0.6385,  \n",
            "....................................................................................................\n",
            "Epoch: 200, accuracy:0.6752,  binary_crossentropy:0.5797,  loss:0.6048,  val_accuracy:0.6580,  val_binary_crossentropy:0.5847,  val_loss:0.6098,  \n",
            "....................................................................................................\n",
            "Epoch: 300, accuracy:0.6856,  binary_crossentropy:0.5740,  loss:0.6017,  val_accuracy:0.6680,  val_binary_crossentropy:0.5808,  val_loss:0.6085,  \n",
            "....................................................................................................\n",
            "Epoch: 400, accuracy:0.6960,  binary_crossentropy:0.5603,  loss:0.5869,  val_accuracy:0.6820,  val_binary_crossentropy:0.5812,  val_loss:0.6078,  \n",
            "......................................................"
          ],
          "name": "stdout"
        }
      ]
    },
    {
      "cell_type": "markdown",
      "metadata": {
        "id": "fnf64QE6XWyv"
      },
      "source": [
        "- l2(0.001) means that every coefficient in the weight matrix of the layer will add 0.001 * weight_coefficient_value**2 to the total loss of the network.\n",
        "\n",
        "- That is why we're monitoring the binary_crossentropy directly. Because it doesn't have this regularization component mixed in.\n",
        "\n",
        "- So, that same \"Large\" model with an L2 regularization penalty performs much better:"
      ]
    },
    {
      "cell_type": "code",
      "metadata": {
        "colab": {
          "base_uri": "https://localhost:8080/",
          "height": 300
        },
        "id": "8jAN0QsjW9Ju",
        "outputId": "168b900e-8bf3-4b1f-cb93-a3be916f5097"
      },
      "source": [
        "plotter.plot(regularizer_histories)\n",
        "plt.ylim([0.5, 0.7])"
      ],
      "execution_count": 42,
      "outputs": [
        {
          "output_type": "execute_result",
          "data": {
            "text/plain": [
              "(0.5, 0.7)"
            ]
          },
          "metadata": {
            "tags": []
          },
          "execution_count": 42
        },
        {
          "output_type": "display_data",
          "data": {
            "image/png": "[encoded data removed]",
            "text/plain": [
              "<Figure size 432x288 with 1 Axes>"
            ]
          },
          "metadata": {
            "tags": [],
            "needs_background": "light"
          }
        }
      ]
    },
    {
      "cell_type": "markdown",
      "metadata": {
        "id": "odyJJxoHX_HI"
      },
      "source": [
        "- As you can see, the \"L2\" regularized model is now much more competitive with the the \"Tiny\" model. This \"L2\" model is also much more resistant to overfitting than the \"Large\" model it was based on despite having the same number of parameters.\n",
        "More info\n",
        "\n",
        "- There are two important things to note about this sort of regularization.\n",
        "\n",
        "- First: if you are writing your own training loop, then you need to be sure to ask the model for its regularization losses.\n",
        "\n",
        "*result = l2_model(features)*\n",
        "*regularization_loss=tf.add_n(l2_model.losses)*\n",
        "\n",
        "- Second: This implementation works by adding the weight penalties to the model's loss, and then applying a standard optimization procedure after that.\n",
        "\n",
        "- There is a second approach that instead only runs the optimizer on the raw loss, and then while applying the calculated step the optimizer also applies some weight decay. This \"Decoupled Weight Decay\" is seen in optimizers like optimizers.FTRL and optimizers.AdamW"
      ]
    },
    {
      "cell_type": "markdown",
      "metadata": {
        "id": "DRnnuholYRqN"
      },
      "source": [
        "###Add dropout\n",
        "- Dropout is one of the most effective and most commonly used regularization techniques for neural networks, developed by Hinton and his students at the University of Toronto.\n",
        "\n",
        "- The intuitive explanation for dropout is that because individual nodes in the network cannot rely on the output of the others, each node must output features that are useful on their own.\n",
        "\n",
        "- Dropout, applied to a layer, consists of randomly \"dropping out\" (i.e. set to zero) a number of output features of the layer during training. Let's say a given layer would normally have returned a vector [0.2, 0.5, 1.3, 0.8, 1.1] for a given input sample during training; after applying dropout, this vector will have a few zero entries distributed at random, e.g. [0, 0.5, 1.3, 0, 1.1].\n",
        "\n",
        "- The \"dropout rate\" is the fraction of the features that are being zeroed-out; it is usually set between 0.2 and 0.5. At test time, no units are dropped out, and instead the layer's output values are scaled down by a factor equal to the dropout rate, so as to balance for the fact that more units are active than at training time.\n",
        "\n",
        "- In tf.keras you can introduce dropout in a network via the Dropout layer, which gets applied to the output of layer right before.\n",
        "\n",
        "- Let's add two Dropout layers in our network to see how well they do at reducing overfitting:"
      ]
    },
    {
      "cell_type": "code",
      "metadata": {
        "colab": {
          "base_uri": "https://localhost:8080/"
        },
        "id": "cR0Uk3RfYKdV",
        "outputId": "35684663-e8b7-4d10-be99-785b2df5d827"
      },
      "source": [
        "dropout_model = tf.keras.Sequential([\n",
        "    layers.Dense(512, activation='elu', input_shape=(FEATURES,)),\n",
        "    layers.Dropout(0.5),\n",
        "    layers.Dense(512, activation='elu'),\n",
        "    layers.Dropout(0.5),\n",
        "    layers.Dense(512, activation='elu'),\n",
        "    layers.Dropout(0.5),\n",
        "    layers.Dense(512, activation='elu'),\n",
        "    layers.Dropout(0.5),\n",
        "    layers.Dense(1)\n",
        "])\n",
        "\n",
        "regularizer_histories['dropout'] = compile_and_fit(dropout_model, \"regularizers/dropout\")"
      ],
      "execution_count": 40,
      "outputs": [
        {
          "output_type": "stream",
          "text": [
            "Model: \"sequential_5\"\n",
            "_________________________________________________________________\n",
            "Layer (type)                 Output Shape              Param #   \n",
            "=================================================================\n",
            "dense_19 (Dense)             (None, 512)               14848     \n",
            "_________________________________________________________________\n",
            "dropout (Dropout)            (None, 512)               0         \n",
            "_________________________________________________________________\n",
            "dense_20 (Dense)             (None, 512)               262656    \n",
            "_________________________________________________________________\n",
            "dropout_1 (Dropout)          (None, 512)               0         \n",
            "_________________________________________________________________\n",
            "dense_21 (Dense)             (None, 512)               262656    \n",
            "_________________________________________________________________\n",
            "dropout_2 (Dropout)          (None, 512)               0         \n",
            "_________________________________________________________________\n",
            "dense_22 (Dense)             (None, 512)               262656    \n",
            "_________________________________________________________________\n",
            "dropout_3 (Dropout)          (None, 512)               0         \n",
            "_________________________________________________________________\n",
            "dense_23 (Dense)             (None, 1)                 513       \n",
            "=================================================================\n",
            "Total params: 803,329\n",
            "Trainable params: 803,329\n",
            "Non-trainable params: 0\n",
            "_________________________________________________________________\n",
            "\n",
            "Epoch: 0, accuracy:0.5108,  binary_crossentropy:0.7900,  loss:0.7900,  val_accuracy:0.5690,  val_binary_crossentropy:0.6804,  val_loss:0.6804,  \n",
            "....................................................................................................\n",
            "Epoch: 100, accuracy:0.6555,  binary_crossentropy:0.5967,  loss:0.5967,  val_accuracy:0.6920,  val_binary_crossentropy:0.5831,  val_loss:0.5831,  \n",
            "....................................................................................................\n",
            "Epoch: 200, accuracy:0.6923,  binary_crossentropy:0.5538,  loss:0.5538,  val_accuracy:0.6710,  val_binary_crossentropy:0.5865,  val_loss:0.5865,  \n",
            "....................................................................................................\n",
            "Epoch: 300, accuracy:0.7258,  binary_crossentropy:0.5120,  loss:0.5120,  val_accuracy:0.6970,  val_binary_crossentropy:0.5994,  val_loss:0.5994,  \n",
            "..."
          ],
          "name": "stdout"
        }
      ]
    },
    {
      "cell_type": "code",
      "metadata": {
        "colab": {
          "base_uri": "https://localhost:8080/",
          "height": 300
        },
        "id": "93gXs24uloIZ",
        "outputId": "7780f5fe-e4ad-405b-d635-76ffa6d64b67"
      },
      "source": [
        "plotter.plot(regularizer_histories)\n",
        "plt.ylim([0.5, 0.7])"
      ],
      "execution_count": 41,
      "outputs": [
        {
          "output_type": "execute_result",
          "data": {
            "text/plain": [
              "(0.5, 0.7)"
            ]
          },
          "metadata": {
            "tags": []
          },
          "execution_count": 41
        },
        {
          "output_type": "display_data",
          "data": {
            "image/png": "[encoded data removed]",
            "text/plain": [
              "<Figure size 432x288 with 1 Axes>"
            ]
          },
          "metadata": {
            "tags": [],
            "needs_background": "light"
          }
        }
      ]
    },
    {
      "cell_type": "markdown",
      "metadata": {
        "id": "A8rHc6ETl1gA"
      },
      "source": [
        "- It's clear from this plot that both of these regularization approaches improve the behavior of the \"Large\" model. But this still doesn't beat even the \"Tiny\" baseline."
      ]
    },
    {
      "cell_type": "markdown",
      "metadata": {
        "id": "K0gaYcasl3cQ"
      },
      "source": [
        "###Combined L2 + dropout"
      ]
    },
    {
      "cell_type": "code",
      "metadata": {
        "colab": {
          "base_uri": "https://localhost:8080/"
        },
        "id": "oXEaDJxdl3Gb",
        "outputId": "737dec63-2ec0-45f0-86f5-83b1d4832599"
      },
      "source": [
        "combined_model = tf.keras.Sequential([\n",
        "    layers.Dense(512, kernel_regularizer=regularizers.l2(0.0001),\n",
        "                 activation='elu', input_shape=(FEATURES,)),\n",
        "    layers.Dropout(0.5),\n",
        "    layers.Dense(512, kernel_regularizer=regularizers.l2(0.0001),\n",
        "                 activation='elu'),\n",
        "    layers.Dropout(0.5),\n",
        "    layers.Dense(512, kernel_regularizer=regularizers.l2(0.0001),\n",
        "                 activation='elu'),\n",
        "    layers.Dropout(0.5),\n",
        "    layers.Dense(512, kernel_regularizer=regularizers.l2(0.0001),\n",
        "                 activation='elu'),\n",
        "    layers.Dropout(0.5),\n",
        "    layers.Dense(1)\n",
        "])\n",
        "\n",
        "regularizer_histories['combined'] = compile_and_fit(combined_model, \"regularizers/combined\")"
      ],
      "execution_count": 43,
      "outputs": [
        {
          "output_type": "stream",
          "text": [
            "Model: \"sequential_6\"\n",
            "_________________________________________________________________\n",
            "Layer (type)                 Output Shape              Param #   \n",
            "=================================================================\n",
            "dense_24 (Dense)             (None, 512)               14848     \n",
            "_________________________________________________________________\n",
            "dropout_4 (Dropout)          (None, 512)               0         \n",
            "_________________________________________________________________\n",
            "dense_25 (Dense)             (None, 512)               262656    \n",
            "_________________________________________________________________\n",
            "dropout_5 (Dropout)          (None, 512)               0         \n",
            "_________________________________________________________________\n",
            "dense_26 (Dense)             (None, 512)               262656    \n",
            "_________________________________________________________________\n",
            "dropout_6 (Dropout)          (None, 512)               0         \n",
            "_________________________________________________________________\n",
            "dense_27 (Dense)             (None, 512)               262656    \n",
            "_________________________________________________________________\n",
            "dropout_7 (Dropout)          (None, 512)               0         \n",
            "_________________________________________________________________\n",
            "dense_28 (Dense)             (None, 1)                 513       \n",
            "=================================================================\n",
            "Total params: 803,329\n",
            "Trainable params: 803,329\n",
            "Non-trainable params: 0\n",
            "_________________________________________________________________\n",
            "\n",
            "Epoch: 0, accuracy:0.5034,  binary_crossentropy:0.7934,  loss:0.9516,  val_accuracy:0.5100,  val_binary_crossentropy:0.6773,  val_loss:0.8348,  \n",
            "....................................................................................................\n",
            "Epoch: 100, accuracy:0.6480,  binary_crossentropy:0.6025,  loss:0.6327,  val_accuracy:0.6760,  val_binary_crossentropy:0.5861,  val_loss:0.6162,  \n",
            "....................................................................................................\n",
            "Epoch: 200, accuracy:0.6573,  binary_crossentropy:0.5887,  loss:0.6148,  val_accuracy:0.6800,  val_binary_crossentropy:0.5660,  val_loss:0.5921,  \n",
            "....................................................................................................\n",
            "Epoch: 300, accuracy:0.6704,  binary_crossentropy:0.5809,  loss:0.6091,  val_accuracy:0.6880,  val_binary_crossentropy:0.5617,  val_loss:0.5899,  \n",
            "....................................................................................................\n",
            "Epoch: 400, accuracy:0.6804,  binary_crossentropy:0.5778,  loss:0.6077,  val_accuracy:0.6790,  val_binary_crossentropy:0.5623,  val_loss:0.5921,  \n",
            "....................................................................................................\n",
            "Epoch: 500, accuracy:0.6761,  binary_crossentropy:0.5753,  loss:0.6072,  val_accuracy:0.6740,  val_binary_crossentropy:0.5537,  val_loss:0.5856,  \n",
            "....................................................................................................\n",
            "Epoch: 600, accuracy:0.6859,  binary_crossentropy:0.5644,  loss:0.5978,  val_accuracy:0.6980,  val_binary_crossentropy:0.5489,  val_loss:0.5823,  \n",
            "....................................................................................................\n",
            "Epoch: 700, accuracy:0.6885,  binary_crossentropy:0.5627,  loss:0.5978,  val_accuracy:0.6950,  val_binary_crossentropy:0.5496,  val_loss:0.5847,  \n",
            "....................................................................................................\n",
            "Epoch: 800, accuracy:0.6928,  binary_crossentropy:0.5554,  loss:0.5916,  val_accuracy:0.6960,  val_binary_crossentropy:0.5427,  val_loss:0.5789,  \n",
            "..........................................................."
          ],
          "name": "stdout"
        }
      ]
    },
    {
      "cell_type": "code",
      "metadata": {
        "colab": {
          "base_uri": "https://localhost:8080/",
          "height": 300
        },
        "id": "_fSLrMsfl2ao",
        "outputId": "a524675b-b3e7-49e8-8a9f-64fd4e74255b"
      },
      "source": [
        "plotter.plot(regularizer_histories)\n",
        "plt.ylim([0.5, 0.7])"
      ],
      "execution_count": 44,
      "outputs": [
        {
          "output_type": "execute_result",
          "data": {
            "text/plain": [
              "(0.5, 0.7)"
            ]
          },
          "metadata": {
            "tags": []
          },
          "execution_count": 44
        },
        {
          "output_type": "display_data",
          "data": {
            "image/png": "[encoded data removed]",
            "text/plain": [
              "<Figure size 432x288 with 1 Axes>"
            ]
          },
          "metadata": {
            "tags": [],
            "needs_background": "light"
          }
        }
      ]
    },
    {
      "cell_type": "markdown",
      "metadata": {
        "id": "2c3cDhcbmGVy"
      },
      "source": [
        "- This model with the \"Combined\" regularization is obviously the best one so far"
      ]
    },
    {
      "cell_type": "code",
      "metadata": {
        "colab": {
          "base_uri": "https://localhost:8080/",
          "height": 821
        },
        "id": "ER84wsFkmFd2",
        "outputId": "88598f6f-b8ee-463b-d600-d7580af298c5"
      },
      "source": [
        "display.IFrame(\n",
        "    src=\"https://tensorboard.dev/experiment/fGInKDo8TXes1z7HQku9mw/#scalars&_smoothingWeight=0.97\",\n",
        "    width = \"100%\",\n",
        "    height=\"800px\")"
      ],
      "execution_count": 45,
      "outputs": [
        {
          "output_type": "execute_result",
          "data": {
            "text/html": [
              "\n",
              "        <iframe\n",
              "            width=\"100%\"\n",
              "            height=\"800px\"\n",
              "            src=\"https://tensorboard.dev/experiment/fGInKDo8TXes1z7HQku9mw/#scalars&_smoothingWeight=0.97\"\n",
              "            frameborder=\"0\"\n",
              "            allowfullscreen\n",
              "        ></iframe>\n",
              "        "
            ],
            "text/plain": [
              "<IPython.lib.display.IFrame at 0x7fc9ee7fe5f8>"
            ]
          },
          "metadata": {
            "tags": []
          },
          "execution_count": 45
        }
      ]
    },
    {
      "cell_type": "code",
      "metadata": {
        "id": "xYkzSnvaplqX"
      },
      "source": [
        ""
      ],
      "execution_count": null,
      "outputs": []
    }
  ]
}