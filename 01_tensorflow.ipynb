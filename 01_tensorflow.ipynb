{
  "nbformat": 4,
  "nbformat_minor": 0,
  "metadata": {
    "colab": {
      "name": "01_tensorflow.ipynb",
      "private_outputs": true,
      "provenance": [],
      "collapsed_sections": [],
      "authorship_tag": "ABX9TyNH6svN2OYg68bHsTQGUCm6",
      "include_colab_link": true
    },
    "kernelspec": {
      "name": "python3",
      "display_name": "Python 3"
    }
  },
  "cells": [
    {
      "cell_type": "markdown",
      "metadata": {
        "id": "view-in-github",
        "colab_type": "text"
      },
      "source": [
        "<a href=\"https://colab.research.google.com/github/SiriuXProtocoL/Tensorflow_examples/blob/main/01_tensorflow.ipynb\" target=\"_parent\"><img src=\"https://colab.research.google.com/assets/colab-badge.svg\" alt=\"Open In Colab\"/></a>"
      ]
    },
    {
      "cell_type": "markdown",
      "metadata": {
        "id": "asfxbRqL71SQ"
      },
      "source": [
        "#Basic classification: Classify images of clothing"
      ]
    },
    {
      "cell_type": "code",
      "metadata": {
        "id": "lcqlY0xYyGrQ"
      },
      "source": [
        "!pip install tensorflow"
      ],
      "execution_count": null,
      "outputs": []
    },
    {
      "cell_type": "code",
      "metadata": {
        "id": "V2hng387yCuP"
      },
      "source": [
        "# TensorFlow and tf.keras\n",
        "import tensorflow as tf\n",
        "\n",
        "# Helper libraries\n",
        "import numpy as np\n",
        "import matplotlib.pyplot as plt\n",
        "\n",
        "print(tf.__version__)\n"
      ],
      "execution_count": null,
      "outputs": []
    },
    {
      "cell_type": "markdown",
      "metadata": {
        "id": "DwFmi1I0ySDy"
      },
      "source": [
        " Fashion MNIST dataset which contains 70,000 grayscale images in 10 categories. The images show individual articles of clothing at low resolution (28 by 28 pixels)"
      ]
    },
    {
      "cell_type": "code",
      "metadata": {
        "id": "d-_lcBIbyJHP"
      },
      "source": [
        "#load the fashion MNIST dataset directly from tensorflow\n",
        "fashion_mnist = tf.keras.datasets.fashion_mnist\n",
        "(train_images, train_labels), (test_images, test_labels) = fashion_mnist.load_data()\n",
        "print(\"Train Images Size\", train_images.shape)\n",
        "print(\"Train Images Label Size\", train_labels.shape)\n",
        "print(\"Train Set : \", train_labels)\n",
        "\n",
        "print(\"\\n Test Images Size\", test_images.shape)\n",
        "print(\"Test Images Label Size\", test_labels.shape)\n",
        "print(\"Test Set : \", test_labels)\n",
        "\n"
      ],
      "execution_count": null,
      "outputs": []
    },
    {
      "cell_type": "markdown",
      "metadata": {
        "id": "z4O4_tHhz2ds"
      },
      "source": [
        "The images are 28x28 NumPy arrays, with pixel values ranging from 0 to 255. The labels are an array of integers, ranging from 0 to 9."
      ]
    },
    {
      "cell_type": "code",
      "metadata": {
        "id": "O-W28Xiny9Kh"
      },
      "source": [
        "#label calss columns are not included in the dataset so store them as a list\n",
        "class_names = ['T-shirt/top', 'Trouser', 'Pullover', 'Dress', 'Coat',\n",
        "               'Sandal', 'Shirt', 'Sneaker', 'Bag', 'Ankle boot']\n"
      ],
      "execution_count": null,
      "outputs": []
    },
    {
      "cell_type": "code",
      "metadata": {
        "id": "rL81Xv9T0DA_"
      },
      "source": [
        "plt.figure()\n",
        "plt.imshow(train_images[0]) #plotting the 1st image\n",
        "plt.colorbar()\n",
        "plt.grid(False)\n",
        "plt.show()"
      ],
      "execution_count": null,
      "outputs": []
    },
    {
      "cell_type": "markdown",
      "metadata": {
        "id": "pOI2kwLH1CN_"
      },
      "source": [
        "- pixel value range b/w 0 to 255 so training set and testing set should be processed the same way.\n",
        "- Scale these values to a range of 0 to 1 before feeding them to the neural network model. To do so, divide the values by 255."
      ]
    },
    {
      "cell_type": "code",
      "metadata": {
        "id": "IL6kEvUa040M"
      },
      "source": [
        "train_images = train_images / 255.0\n",
        "\n",
        "test_images = test_images / 255.0\n"
      ],
      "execution_count": null,
      "outputs": []
    },
    {
      "cell_type": "code",
      "metadata": {
        "id": "D50Qp6el1QDl"
      },
      "source": [
        "#displaying the 1st 25 images with their corresponding class labels\n",
        "plt.figure(figsize=(10,10))\n",
        "for i in range(25):\n",
        "    plt.subplot(5,5,i+1)\n",
        "    plt.xticks([])\n",
        "    plt.yticks([])\n",
        "    plt.grid(False)\n",
        "    plt.imshow(train_images[i], cmap=plt.cm.binary)\n",
        "    plt.xlabel(class_names[train_labels[i]])\n",
        "plt.show()\n"
      ],
      "execution_count": null,
      "outputs": []
    },
    {
      "cell_type": "markdown",
      "metadata": {
        "id": "NotKCgZB8NRQ"
      },
      "source": [
        "**Building the Model**\n",
        "- tf.keras.layers.Dense, have parameters that are learned during training"
      ]
    },
    {
      "cell_type": "code",
      "metadata": {
        "id": "6rqYi38E8Iy3"
      },
      "source": [
        "model = tf.keras.Sequential([\n",
        "    tf.keras.layers.Flatten(input_shape=(28, 28)),\n",
        "    tf.keras.layers.Dense(128, activation='relu'),\n",
        "    tf.keras.layers.Dense(10)\n",
        "])"
      ],
      "execution_count": null,
      "outputs": []
    },
    {
      "cell_type": "markdown",
      "metadata": {
        "id": "8znbsiuQ9BWo"
      },
      "source": [
        "- The first layer in this network, tf.keras.layers.Flatten, transforms the format of the images from a two-dimensional array (of 28 by 28 pixels) to a one-dimensional array (of 28 * 28 = 784 pixels).\n",
        "-  tf.keras.layers.Dense layers. These are densely connected, or fully connected, neural layers. \n",
        "- The first Dense layer has 128 nodes (or neurons). The second (and last) layer returns a logits array with length of 10.\n",
        "-  Each node contains a score that indicates the current image belongs to one of the 10 classes."
      ]
    },
    {
      "cell_type": "markdown",
      "metadata": {
        "id": "U_sR-kKK9nhn"
      },
      "source": [
        "**Compile the model**\n",
        "\n",
        "- Loss function —This measures how accurate the model is during training. You want to minimize this function to \"steer\" the model in the right direction.\n",
        "- Optimizer —This is how the model is updated based on the data it sees and its loss function.\n",
        "- Metrics —Used to monitor the training and testing steps. The following example uses accuracy, the fraction of the images that are correctly classified.\n"
      ]
    },
    {
      "cell_type": "code",
      "metadata": {
        "id": "w24h_zZY8xuC"
      },
      "source": [
        "model.compile(optimizer='adam',\n",
        "              loss=tf.keras.losses.SparseCategoricalCrossentropy(from_logits=True),\n",
        "              metrics=['accuracy'])"
      ],
      "execution_count": null,
      "outputs": []
    },
    {
      "cell_type": "markdown",
      "metadata": {
        "id": "q0uMrrAv-EpZ"
      },
      "source": [
        "**Train the model**\n",
        "- the training data is in the train_images and train_labels arrays."
      ]
    },
    {
      "cell_type": "code",
      "metadata": {
        "id": "ChoI5SqG9-L9"
      },
      "source": [
        "model.fit(train_images, train_labels, epochs=10)\n"
      ],
      "execution_count": null,
      "outputs": []
    },
    {
      "cell_type": "markdown",
      "metadata": {
        "id": "hk-SOZBt-sxs"
      },
      "source": [
        "**Evaluate accuracy**\n",
        "- compare how the model performs on the test dataset"
      ]
    },
    {
      "cell_type": "code",
      "metadata": {
        "id": "xUmAD8hX-smC"
      },
      "source": [
        "test_loss, test_acc = model.evaluate(test_images,  test_labels, verbose=2)\n",
        "\n",
        "print('\\nTest accuracy:', test_acc)\n"
      ],
      "execution_count": null,
      "outputs": []
    },
    {
      "cell_type": "markdown",
      "metadata": {
        "id": "e3WnOBa2--DK"
      },
      "source": [
        "- This gap between training accuracy and test accuracy represents overfitting\n",
        "\n",
        "**Make predictions**\n",
        "\n",
        "- The model is linear outputs, logits.\n",
        "- Attach a softmax layer to convert the logits to probabilities, which are easier to interpret"
      ]
    },
    {
      "cell_type": "code",
      "metadata": {
        "id": "Aq2lLMwR-cex"
      },
      "source": [
        "#Applying Softmax\n",
        "probability_model = tf.keras.Sequential([model, \n",
        "                                         tf.keras.layers.Softmax()])"
      ],
      "execution_count": null,
      "outputs": []
    },
    {
      "cell_type": "code",
      "metadata": {
        "id": "7pwZ6UMpBFRJ"
      },
      "source": [
        "#Assigning predictions\n",
        "predictions = probability_model.predict(test_images)"
      ],
      "execution_count": null,
      "outputs": []
    },
    {
      "cell_type": "code",
      "metadata": {
        "id": "IbZqiGrWBM8s"
      },
      "source": [
        "#making prediction for the 1st example\n",
        "predictions[0]"
      ],
      "execution_count": null,
      "outputs": []
    },
    {
      "cell_type": "markdown",
      "metadata": {
        "id": "PhzQd6deBgru"
      },
      "source": [
        "- The prediction return the confidence level of all the categories"
      ]
    },
    {
      "cell_type": "code",
      "metadata": {
        "id": "NsW3WQfPBfqW"
      },
      "source": [
        "#maximum probability amoung the prediction\n",
        "np.argmax(predictions[0])\n"
      ],
      "execution_count": null,
      "outputs": []
    },
    {
      "cell_type": "code",
      "metadata": {
        "id": "ifo3M9mlBsAE"
      },
      "source": [
        "#Original class label for the prediction\n",
        "test_labels[0]"
      ],
      "execution_count": null,
      "outputs": []
    },
    {
      "cell_type": "markdown",
      "metadata": {
        "id": "5i1xCw8VB_-Z"
      },
      "source": [
        "- Our model predicted correctly as ankle boot\n",
        "- Creating a Graph of the confidence matrix for easy visualizations"
      ]
    },
    {
      "cell_type": "code",
      "metadata": {
        "id": "5djQk5VjB0y2"
      },
      "source": [
        "def plot_image(i, predictions_array, true_label, img):\n",
        "  true_label, img = true_label[i], img[i]\n",
        "  plt.grid(False)\n",
        "  plt.xticks([])\n",
        "  plt.yticks([])\n",
        "\n",
        "  plt.imshow(img, cmap=plt.cm.binary)\n",
        "\n",
        "  predicted_label = np.argmax(predictions_array)\n",
        "  if predicted_label == true_label:\n",
        "    color = 'blue'\n",
        "  else:\n",
        "    color = 'red'\n",
        "\n",
        "  plt.xlabel(\"{} {:2.0f}% ({})\".format(class_names[predicted_label],\n",
        "                                100*np.max(predictions_array),\n",
        "                                class_names[true_label]),\n",
        "                                color=color)\n",
        "\n",
        "def plot_value_array(i, predictions_array, true_label):\n",
        "  true_label = true_label[i]\n",
        "  plt.grid(False)\n",
        "  plt.xticks(range(10))\n",
        "  plt.yticks([])\n",
        "  thisplot = plt.bar(range(10), predictions_array, color=\"#777777\")\n",
        "  plt.ylim([0, 1])\n",
        "  predicted_label = np.argmax(predictions_array)\n",
        "\n",
        "  thisplot[predicted_label].set_color('red')\n",
        "  thisplot[true_label].set_color('blue')\n"
      ],
      "execution_count": null,
      "outputs": []
    },
    {
      "cell_type": "markdown",
      "metadata": {
        "id": "fRTPhHrfCole"
      },
      "source": [
        "- Verify predictions\n",
        "- correct predictions are blue and incorrect ones are red"
      ]
    },
    {
      "cell_type": "code",
      "metadata": {
        "id": "5frFpbc8CoWU"
      },
      "source": [
        "i = 0\n",
        "plt.figure(figsize=(6,3))\n",
        "plt.subplot(1,2,1)\n",
        "plot_image(i, predictions[i], test_labels, test_images)\n",
        "plt.subplot(1,2,2)\n",
        "plot_value_array(i, predictions[i],  test_labels)\n",
        "plt.show()\n"
      ],
      "execution_count": null,
      "outputs": []
    },
    {
      "cell_type": "code",
      "metadata": {
        "id": "Ki86noP9CNPx"
      },
      "source": [
        "i = 12\n",
        "plt.figure(figsize=(6,3))\n",
        "plt.subplot(1,2,1)\n",
        "plot_image(i, predictions[i], test_labels, test_images)\n",
        "plt.subplot(1,2,2)\n",
        "plot_value_array(i, predictions[i],  test_labels)\n",
        "plt.show()\n"
      ],
      "execution_count": null,
      "outputs": []
    },
    {
      "cell_type": "code",
      "metadata": {
        "id": "yD8tVzT3C0xA"
      },
      "source": [
        "# Plot the first X test images, their predicted labels, and the true labels.\n",
        "# Color correct predictions in blue and incorrect predictions in red.\n",
        "num_rows = 5\n",
        "num_cols = 3\n",
        "num_images = num_rows*num_cols\n",
        "plt.figure(figsize=(2*2*num_cols, 2*num_rows))\n",
        "for i in range(num_images):\n",
        "  plt.subplot(num_rows, 2*num_cols, 2*i+1)\n",
        "  plot_image(i, predictions[i], test_labels, test_images)\n",
        "  plt.subplot(num_rows, 2*num_cols, 2*i+2)\n",
        "  plot_value_array(i, predictions[i], test_labels)\n",
        "plt.tight_layout()\n",
        "plt.show()\n"
      ],
      "execution_count": null,
      "outputs": []
    },
    {
      "cell_type": "markdown",
      "metadata": {
        "id": "wNgl3141DOeZ"
      },
      "source": [
        "**Use the trained model**\n",
        "\n",
        "- use the trained model to make a prediction about a single image"
      ]
    },
    {
      "cell_type": "code",
      "metadata": {
        "id": "m0Pv8GyoC-eE"
      },
      "source": [
        "# Grab an image from the test dataset.\n",
        "img = test_images[1]\n",
        "\n",
        "print(img.shape)\n"
      ],
      "execution_count": null,
      "outputs": []
    },
    {
      "cell_type": "code",
      "metadata": {
        "id": "aw7ZPf1dDTRW"
      },
      "source": [
        "# Add the image to a batch where it's the only member.\n",
        "img = (np.expand_dims(img,0))\n",
        "\n",
        "print(img.shape)\n"
      ],
      "execution_count": null,
      "outputs": []
    },
    {
      "cell_type": "code",
      "metadata": {
        "id": "2BdYGd0rDb0v"
      },
      "source": [
        "#predict the labels\n",
        "predictions_single = probability_model.predict(img)\n",
        "\n",
        "print(predictions_single)\n"
      ],
      "execution_count": null,
      "outputs": []
    },
    {
      "cell_type": "code",
      "metadata": {
        "id": "0LaBjeCODgw6"
      },
      "source": [
        "#plot\n",
        "plot_value_array(1, predictions_single[0], test_labels)\n",
        "_ = plt.xticks(range(10), class_names, rotation=45)\n"
      ],
      "execution_count": null,
      "outputs": []
    },
    {
      "cell_type": "markdown",
      "metadata": {
        "id": "GTv_ALzUDuch"
      },
      "source": [
        "- tf.keras.Model.predict returns a list of lists—one list for each image in the batch of data. Grab the predictions for our (only) image in the batch:"
      ]
    },
    {
      "cell_type": "code",
      "metadata": {
        "id": "KWaB3MXqDks_"
      },
      "source": [
        "np.argmax(predictions_single[0])\n"
      ],
      "execution_count": null,
      "outputs": []
    },
    {
      "cell_type": "markdown",
      "metadata": {
        "id": "3UDEZArpD7Ps"
      },
      "source": [
        "Superb We got our predictions Right"
      ]
    },
    {
      "cell_type": "code",
      "metadata": {
        "id": "k6ZRGBA8DxO4"
      },
      "source": [
        ""
      ],
      "execution_count": null,
      "outputs": []
    }
  ]
}